{
 "cells": [
  {
   "cell_type": "markdown",
   "metadata": {},
   "source": [
    "## PARAMETERS"
   ]
  },
  {
   "cell_type": "code",
   "execution_count": 379,
   "metadata": {
    "collapsed": true
   },
   "outputs": [],
   "source": [
    "user_id = \"64916754\"                           # Define your account id         \n",
    "age = \"-\".join([\"18\"])                         # Define the age range\n",
    "country = \"-\".join([\"BE\"])                     # Define the countries\n",
    "interests = \"-\".join([\"6003031026255\"])        # Define the interests"
   ]
  },
  {
   "cell_type": "markdown",
   "metadata": {},
   "source": [
    "## IMPORT LIBRARIES"
   ]
  },
  {
   "cell_type": "code",
   "execution_count": 17,
   "metadata": {
    "collapsed": true
   },
   "outputs": [],
   "source": [
    "import base64\n",
    "from string import ascii_letters, digits, punctuation, printable\n",
    "from IPython.display import Image, display, HTML\n",
    "from time import sleep\n",
    "from collections import Counter\n",
    "from selenium import webdriver\n",
    "from selenium.webdriver.common.by import By\n",
    "from bs4 import BeautifulSoup\n",
    "from copy import copy\n",
    "import requests\n",
    "import json\n",
    "import os\n",
    "import platform\n",
    "from datetime import datetime\n",
    "import numpy as np\n",
    "import pandas as pd\n",
    "from ast import literal_eval\n",
    "from requests import get"
   ]
  },
  {
   "cell_type": "markdown",
   "metadata": {},
   "source": [
    "## START SCRAPING"
   ]
  },
  {
   "cell_type": "code",
   "execution_count": 358,
   "metadata": {
    "collapsed": true
   },
   "outputs": [],
   "source": [
    "# start the Chrome driver\n",
    "driver = webdriver.Chrome()"
   ]
  },
  {
   "cell_type": "code",
   "execution_count": 143,
   "metadata": {
    "collapsed": true
   },
   "outputs": [],
   "source": [
    "# function to log in on your instagram account\n",
    "def login_facebook(driver, username, password):\n",
    "    \n",
    "    driver.get(\"https://www.facebook.com/\")\n",
    "    \n",
    "    login_cred = driver.find_elements_by_class_name(\"inputtext\")\n",
    "    \n",
    "    login_cred[0].send_keys(username)\n",
    "    login_cred[1].send_keys(password)\n",
    "    \n",
    "    login_button = driver.find_element(by=By.ID, value=\"loginbutton\")\n",
    "    \n",
    "    login_button.click()"
   ]
  },
  {
   "cell_type": "code",
   "execution_count": 359,
   "metadata": {
    "collapsed": true
   },
   "outputs": [],
   "source": [
    "login_facebook(driver, \"charlesverleyen@hotmail.com\", \"\")"
   ]
  },
  {
   "cell_type": "code",
   "execution_count": 373,
   "metadata": {},
   "outputs": [],
   "source": [
    "driver.get(\"https://www.facebook.com/ads/audience-insights/people?act=\"\\\n",
    "           + user_id + \"&age=\" + age + \"-&country=\" + country + \"&interests=\" + interests)"
   ]
  },
  {
   "cell_type": "code",
   "execution_count": 146,
   "metadata": {},
   "outputs": [
    {
     "name": "stdout",
     "output_type": "stream",
     "text": [
      "Audience Insights\n"
     ]
    }
   ],
   "source": [
    "print(driver.title)"
   ]
  },
  {
   "cell_type": "code",
   "execution_count": 147,
   "metadata": {
    "collapsed": true
   },
   "outputs": [],
   "source": [
    "percent_gender_data = driver.find_elements_by_class_name(\"_kdk\")\n",
    "percent_data_woman = int(percent_gender_data[0].text[:2])\n",
    "percent_data_man = int(percent_gender_data[1].text[:2])"
   ]
  },
  {
   "cell_type": "code",
   "execution_count": 148,
   "metadata": {
    "collapsed": true
   },
   "outputs": [],
   "source": [
    "percent_gender_whole = driver.find_elements_by_class_name(\"_5n4z\")\n",
    "percent_whole_women = int(percent_gender_whole[0].text[:2])\n",
    "percent_whole_men = int(percent_gender_whole[1].text[:2])"
   ]
  },
  {
   "cell_type": "code",
   "execution_count": 149,
   "metadata": {},
   "outputs": [
    {
     "data": {
      "text/plain": [
       "49"
      ]
     },
     "execution_count": 149,
     "metadata": {},
     "output_type": "execute_result"
    }
   ],
   "source": [
    "percent_whole_women"
   ]
  },
  {
   "cell_type": "code",
   "execution_count": 150,
   "metadata": {
    "collapsed": true
   },
   "outputs": [],
   "source": [
    "education = driver.find_elements_by_class_name(\"_5tt6\")"
   ]
  },
  {
   "cell_type": "code",
   "execution_count": 151,
   "metadata": {},
   "outputs": [
    {
     "data": {
      "text/plain": [
       "'Single\\nIn a Relationship\\nEngaged\\nMarried\\n-16%+8%+0%+5%'"
      ]
     },
     "execution_count": 151,
     "metadata": {},
     "output_type": "execute_result"
    }
   ],
   "source": [
    "education[0].text"
   ]
  },
  {
   "cell_type": "code",
   "execution_count": 152,
   "metadata": {},
   "outputs": [
    {
     "data": {
      "text/plain": [
       "'366'"
      ]
     },
     "execution_count": 152,
     "metadata": {},
     "output_type": "execute_result"
    }
   ],
   "source": [
    "education[0].find_elements_by_tag_name(\"canvas\")[0].get_attribute(\"width\")"
   ]
  },
  {
   "cell_type": "code",
   "execution_count": 154,
   "metadata": {},
   "outputs": [],
   "source": [
    "# get the base64 representation of the canvas image (the part substring(21) is for removing the padding \"data:image/png;base64\")\n",
    "base64_image = driver.execute_script(\"return document.querySelectorAll('canvas')[0].\\\n",
    "toDataURL('image/png').substring(21);\")\n",
    "base64_image_1 = driver.execute_script(\"return document.querySelectorAll('canvas')[1].\\\n",
    "toDataURL('image/png').substring(21);\")\n",
    "base64_image_2 = driver.execute_script(\"return document.querySelectorAll('canvas')[2].\\\n",
    "toDataURL('image/png').substring(21);\")\n",
    "\n",
    "# decode the base64 image\n",
    "output_image = base64.b64decode(base64_image)\n",
    "output_image_1 = base64.b64decode(base64_image_1)\n",
    "output_image_2 = base64.b64decode(base64_image_2)\n",
    "\n",
    "# save to the output image\n",
    "with open(\"image.png\", 'wb') as f:\n",
    "   f.write(output_image)\n",
    "with open(\"image_1.png\", 'wb') as f:\n",
    "   f.write(output_image_1)\n",
    "with open(\"image_2.png\", 'wb') as f:\n",
    "   f.write(output_image_2)"
   ]
  },
  {
   "cell_type": "code",
   "execution_count": 155,
   "metadata": {
    "collapsed": true
   },
   "outputs": [],
   "source": [
    "import io\n",
    "import os\n",
    "\n",
    "# Imports the Google Cloud client library\n",
    "from google.cloud import vision\n",
    "from google.cloud.vision import types\n",
    "\n",
    "GOOGLE_APPLICATION_CREDENTIALS = \"/home/charly/Downloads/Training-afd38eccfc75.json\"\n",
    "\n",
    "client = vision.ImageAnnotatorClient()"
   ]
  },
  {
   "cell_type": "markdown",
   "metadata": {},
   "source": [
    "## Demographics - Age and Gender chart"
   ]
  },
  {
   "cell_type": "code",
   "execution_count": 156,
   "metadata": {
    "collapsed": true
   },
   "outputs": [],
   "source": [
    "file_name = os.path.join(os.path.dirname('__file__'),'/home/charly/Desktop/Facebook Scraping/image.png')"
   ]
  },
  {
   "cell_type": "code",
   "execution_count": 157,
   "metadata": {
    "collapsed": true
   },
   "outputs": [],
   "source": [
    "with io.open(file_name, 'rb') as image_file:\n",
    "    content = image_file.read()\n",
    "image = types.Image(content=content)\n",
    "response = client.text_detection(image=image)\n",
    "texts = response.text_annotations"
   ]
  },
  {
   "cell_type": "code",
   "execution_count": 162,
   "metadata": {},
   "outputs": [],
   "source": [
    "dict_text = {}\n",
    "for i in texts[1:]:\n",
    "    dict_text[i.description] = (i.bounding_poly.vertices[0].x, i.bounding_poly.vertices[0].y)"
   ]
  },
  {
   "cell_type": "code",
   "execution_count": 168,
   "metadata": {},
   "outputs": [],
   "source": [
    "import operator\n",
    "sorted_x = sorted(dict_text.items(), key=operator.itemgetter(1))"
   ]
  },
  {
   "cell_type": "code",
   "execution_count": 263,
   "metadata": {},
   "outputs": [],
   "source": [
    "dict_age_dist = {}\n",
    "temp_array = []\n",
    "temp = \"\"\n",
    "for i in sorted_x:\n",
    "    if(re.search(\"[-+]\", i[0])):\n",
    "        dict_age_dist[i[0]] = {}\n",
    "        temp = i[0]\n",
    "    \n",
    "    if(re.match('\\d\\d96',i[0])):\n",
    "        if(i[1][1] > 100):\n",
    "            dict_age_dist[temp]['male'] = re.sub(r'96','%',i[0], flags=re.IGNORECASE)\n",
    "        else:\n",
    "            dict_age_dist[temp]['female'] = re.sub(r'96','%',i[0], flags=re.IGNORECASE)\n",
    "    \n",
    "    if(re.search(r'%',i[0])):\n",
    "        if(i[1][1] > 100):\n",
    "            dict_age_dist[temp]['male'] = i[0]\n",
    "        else:\n",
    "            dict_age_dist[temp]['female'] = i[0]"
   ]
  },
  {
   "cell_type": "code",
   "execution_count": 262,
   "metadata": {},
   "outputs": [
    {
     "data": {
      "text/plain": [
       "{'18-24': {'male': '17%'},\n",
       " '25-34': {'female': '16%', 'male': '25%'},\n",
       " '35-44': {'female': '30%', 'male': '26%'},\n",
       " '45-54': {'female': '33%', 'male': '23%'},\n",
       " '55-64': {'female': '8%', 'male': '6%'},\n",
       " '65+': {'female': '5%', 'male': '3%'}}"
      ]
     },
     "execution_count": 262,
     "metadata": {},
     "output_type": "execute_result"
    }
   ],
   "source": [
    "dict_age_dist"
   ]
  },
  {
   "cell_type": "markdown",
   "metadata": {},
   "source": [
    "## Demographics - Relationship Status chart"
   ]
  },
  {
   "cell_type": "code",
   "execution_count": 265,
   "metadata": {
    "collapsed": true
   },
   "outputs": [],
   "source": [
    "file_name2 = os.path.join(os.path.dirname('__file__'),'/home/charly/Desktop/Facebook Scraping/image_1.png')"
   ]
  },
  {
   "cell_type": "code",
   "execution_count": 303,
   "metadata": {
    "collapsed": true
   },
   "outputs": [],
   "source": [
    "with io.open(file_name2, 'rb') as image_file:\n",
    "    content = image_file.read()\n",
    "image = types.Image(content=content)\n",
    "response = client.text_detection(image=image)\n",
    "texts = response.text_annotations"
   ]
  },
  {
   "cell_type": "code",
   "execution_count": 304,
   "metadata": {},
   "outputs": [],
   "source": [
    "dict_text = {}\n",
    "for i in texts[1:]:\n",
    "    dict_text[i.description] = (i.bounding_poly.vertices[0].x, i.bounding_poly.vertices[0].y)"
   ]
  },
  {
   "cell_type": "code",
   "execution_count": 305,
   "metadata": {},
   "outputs": [],
   "source": [
    "for (i, k) in dict_text.items():\n",
    "    dict_text[i] = k[0]\n",
    "sorted_x = sorted(dict_text.items(), key=operator.itemgetter(1))\n",
    "percentage = []\n",
    "for i in sorted_x:\n",
    "    if re.search(r'%',i[0]) is None:\n",
    "        percentage.append(re.sub(r'96','%',i[0], flags=re.IGNORECASE))\n",
    "    else:\n",
    "        percentage.append(i[0])"
   ]
  },
  {
   "cell_type": "code",
   "execution_count": 306,
   "metadata": {
    "collapsed": true
   },
   "outputs": [],
   "source": [
    "education = driver.find_elements_by_class_name(\"_4dfp\")"
   ]
  },
  {
   "cell_type": "code",
   "execution_count": 307,
   "metadata": {},
   "outputs": [],
   "source": [
    "rel = []\n",
    "for i in education[:4]:\n",
    "    rel.append(i.text)"
   ]
  },
  {
   "cell_type": "code",
   "execution_count": 310,
   "metadata": {},
   "outputs": [],
   "source": [
    "dict_relationship = {}\n",
    "for i,j in zip(rel, percentage):\n",
    "    dict_relationship[i] = j"
   ]
  },
  {
   "cell_type": "code",
   "execution_count": 311,
   "metadata": {},
   "outputs": [
    {
     "data": {
      "text/plain": [
       "{'Engaged': '4%',\n",
       " 'In a Relationship': '34%',\n",
       " 'Married': '39%',\n",
       " 'Single': '23%'}"
      ]
     },
     "execution_count": 311,
     "metadata": {},
     "output_type": "execute_result"
    }
   ],
   "source": [
    "dict_relationship"
   ]
  },
  {
   "cell_type": "markdown",
   "metadata": {},
   "source": [
    "## Demographics - Education Level chart"
   ]
  },
  {
   "cell_type": "code",
   "execution_count": 312,
   "metadata": {
    "collapsed": true
   },
   "outputs": [],
   "source": [
    "file_name3 = os.path.join(os.path.dirname('__file__'),'/home/charly/Desktop/Facebook Scraping/image_2.png')"
   ]
  },
  {
   "cell_type": "code",
   "execution_count": 326,
   "metadata": {
    "collapsed": true
   },
   "outputs": [],
   "source": [
    "with io.open(file_name3, 'rb') as image_file:\n",
    "    content = image_file.read()\n",
    "image = types.Image(content=content)\n",
    "response = client.text_detection(image=image)\n",
    "texts = response.text_annotations"
   ]
  },
  {
   "cell_type": "code",
   "execution_count": 327,
   "metadata": {
    "collapsed": true
   },
   "outputs": [],
   "source": [
    "dict_text = {}\n",
    "for i in texts[1:]:\n",
    "    dict_text[i.description] = (i.bounding_poly.vertices[0].x, i.bounding_poly.vertices[0].y)"
   ]
  },
  {
   "cell_type": "code",
   "execution_count": 329,
   "metadata": {
    "collapsed": true
   },
   "outputs": [],
   "source": [
    "for (i, k) in dict_text.items():\n",
    "    dict_text[i] = k[0]\n",
    "sorted_x = sorted(dict_text.items(), key=operator.itemgetter(1))\n",
    "percentage = []\n",
    "for i in sorted_x:\n",
    "    if re.search(r'%',i[0]) is None:\n",
    "        percentage.append(re.sub(r'96','%',i[0], flags=re.IGNORECASE))\n",
    "    else:\n",
    "        percentage.append(i[0])"
   ]
  },
  {
   "cell_type": "code",
   "execution_count": 330,
   "metadata": {
    "collapsed": true
   },
   "outputs": [],
   "source": [
    "ed = []\n",
    "for i in education[4:]:\n",
    "    ed.append(i.text)"
   ]
  },
  {
   "cell_type": "code",
   "execution_count": 332,
   "metadata": {},
   "outputs": [],
   "source": [
    "dict_relationship = {}\n",
    "for i,j in zip(ed, percentage):\n",
    "    dict_relationship[i] = j"
   ]
  },
  {
   "cell_type": "code",
   "execution_count": 333,
   "metadata": {},
   "outputs": [
    {
     "data": {
      "text/plain": [
       "{'High School': '30%', 'University': '63%', 'University (postgraduate)': '7%'}"
      ]
     },
     "execution_count": 333,
     "metadata": {},
     "output_type": "execute_result"
    }
   ],
   "source": [
    "dict_relationship"
   ]
  },
  {
   "cell_type": "markdown",
   "metadata": {},
   "source": [
    "## Scrape Job Title and Industries"
   ]
  },
  {
   "cell_type": "code",
   "execution_count": 349,
   "metadata": {
    "collapsed": true
   },
   "outputs": [],
   "source": [
    "see_all_button = driver.find_elements_by_class_name(\"_5xp8\")\n",
    "see_all_button[0].click()"
   ]
  },
  {
   "cell_type": "code",
   "execution_count": 350,
   "metadata": {
    "collapsed": true
   },
   "outputs": [],
   "source": [
    "jobs = driver.find_elements_by_class_name(\"_54_6\")\n",
    "jobs = jobs[0].find_elements_by_tag_name(\"tr\")"
   ]
  },
  {
   "cell_type": "code",
   "execution_count": 351,
   "metadata": {},
   "outputs": [],
   "source": [
    "jobs_array = []\n",
    "for i in jobs[1:]:\n",
    "    jobs_list = i.find_elements_by_tag_name(\"td\")\n",
    "    temp_array = []\n",
    "    for j in jobs_list:\n",
    "        temp_array.append(j.text)\n",
    "    jobs_array.append(temp_array)"
   ]
  },
  {
   "cell_type": "code",
   "execution_count": 352,
   "metadata": {},
   "outputs": [
    {
     "data": {
      "text/plain": [
       "[['Installation and repair services', '19%', '+90%'],\n",
       " ['Transport and moving', '14%', '+75%'],\n",
       " ['Farming, fishing and forestry', '10%', '+67%'],\n",
       " ['Architecture and engineering', '14%', '+56%'],\n",
       " ['Construction and extraction', '3%', '+50%'],\n",
       " ['Production', '17%', '+42%'],\n",
       " ['Life, physical and social sciences', '10%', '+25%'],\n",
       " ['Healthcare and medical services', '13%', '+8%'],\n",
       " ['Arts, entertainment, sport and media', '16%', '+7%'],\n",
       " ['Cleaning and maintenance services', '3%', '+0%'],\n",
       " ['Business and finance', '10%', '+0%'],\n",
       " ['Protective services', '1%', '+0%'],\n",
       " ['Administrative services', '17%', '-11%'],\n",
       " ['Sales', '17%', '-11%'],\n",
       " ['IT and technical services', '7%', '-12%'],\n",
       " ['Computation and mathematics', '7%', '-12%'],\n",
       " ['Management', '14%', '-12%'],\n",
       " ['Personal care and at-home services', '7%', '-12%'],\n",
       " ['Food and restaurants', '4%', '-33%'],\n",
       " ['Education and libraries', '9%', '-36%'],\n",
       " ['Community and social services', '7%', '-42%'],\n",
       " ['Legal services', '1%', '-50%']]"
      ]
     },
     "execution_count": 352,
     "metadata": {},
     "output_type": "execute_result"
    }
   ],
   "source": [
    "jobs_array"
   ]
  },
  {
   "cell_type": "markdown",
   "metadata": {},
   "source": [
    "## Scrape Page Likes"
   ]
  },
  {
   "cell_type": "code",
   "execution_count": 380,
   "metadata": {},
   "outputs": [],
   "source": [
    "driver.get(\"https://www.facebook.com/ads/audience-insights/interests?act=\"\\\n",
    "           + user_id + \"&age=\" + age + \"-&country=\" + country + \"&interests=\" + interests)"
   ]
  },
  {
   "cell_type": "code",
   "execution_count": 381,
   "metadata": {
    "collapsed": true
   },
   "outputs": [],
   "source": [
    "driver.get(\"https://www.facebook.com/ads/audience-insights/interests?act=64916754&age=18-&country=BE\")"
   ]
  },
  {
   "cell_type": "code",
   "execution_count": 422,
   "metadata": {
    "collapsed": true
   },
   "outputs": [],
   "source": [
    "see_all_buttons = driver.find_elements_by_class_name(\"_5xp8\")"
   ]
  },
  {
   "cell_type": "code",
   "execution_count": 423,
   "metadata": {},
   "outputs": [],
   "source": [
    "see_all_buttons[0].click()\n",
    "see_all_buttons[1].click()"
   ]
  },
  {
   "cell_type": "code",
   "execution_count": 404,
   "metadata": {},
   "outputs": [],
   "source": [
    "interests_likes = driver.find_elements_by_class_name(\"_54_6\")"
   ]
  },
  {
   "cell_type": "code",
   "execution_count": 406,
   "metadata": {},
   "outputs": [],
   "source": [
    "interests_lists = interests_likes[0].find_elements_by_tag_name(\"tr\")"
   ]
  },
  {
   "cell_type": "code",
   "execution_count": 407,
   "metadata": {
    "collapsed": true
   },
   "outputs": [],
   "source": [
    "interests_array = []\n",
    "for i in interests_lists:\n",
    "    jobs_list = i.find_elements_by_tag_name(\"td\")\n",
    "    temp_array = []\n",
    "    for j in jobs_list:\n",
    "        temp_array.append(j.text)\n",
    "    interests_array.append(temp_array)"
   ]
  },
  {
   "cell_type": "code",
   "execution_count": 409,
   "metadata": {
    "collapsed": true
   },
   "outputs": [],
   "source": [
    "likes_lists = interests_likes[1].find_elements_by_tag_name(\"tr\")"
   ]
  },
  {
   "cell_type": "code",
   "execution_count": 416,
   "metadata": {
    "collapsed": true
   },
   "outputs": [],
   "source": [
    "likes_array = []\n",
    "for i in likes_lists[1:]:\n",
    "    jobs_list = i.find_elements_by_tag_name(\"td\")\n",
    "    temp_array = []\n",
    "    for j in jobs_list:\n",
    "        temp_array.append(j.text)\n",
    "    likes_array.append(temp_array)"
   ]
  },
  {
   "cell_type": "code",
   "execution_count": 448,
   "metadata": {
    "collapsed": true
   },
   "outputs": [],
   "source": [
    "interests_array.insert(0,[\"Number\", \"Category\", \"Page name\" ])"
   ]
  },
  {
   "cell_type": "code",
   "execution_count": 449,
   "metadata": {},
   "outputs": [
    {
     "data": {
      "text/plain": [
       "[['Number', 'Category', 'Page name'],\n",
       " ['1', 'Recreation & sport website', 'We Are Tennis'],\n",
       " ['2', 'Jewellery/Watches', 'Ice-Watch'],\n",
       " ['3', 'Electronics company', 'Samsung'],\n",
       " ['4', 'Food & drink', 'Coca-Cola'],\n",
       " ['5', 'Food delivery service', 'Takeaway.com'],\n",
       " ['6', 'Supermarket/Convenience store', 'Ferrero Rocher'],\n",
       " ['7', 'Film/Television studio', '20th Century FoxWarner Bros. Pictures'],\n",
       " ['8', 'Clothing (brand)', '3SuissesH&MHunkemöller'],\n",
       " ['9', 'Shopping centre', 'IKEA'],\n",
       " ['10', 'Film', 'AvatarStep Up MovieFast & Furious']]"
      ]
     },
     "execution_count": 449,
     "metadata": {},
     "output_type": "execute_result"
    }
   ],
   "source": [
    "interests_array"
   ]
  },
  {
   "cell_type": "code",
   "execution_count": 444,
   "metadata": {
    "collapsed": true
   },
   "outputs": [],
   "source": [
    "likes_array.insert(0,[\"Page\", \"Relevance\", \"Audience\",\"Facebook\", \"Affinity\"])"
   ]
  },
  {
   "cell_type": "code",
   "execution_count": 445,
   "metadata": {},
   "outputs": [
    {
     "data": {
      "text/plain": [
       "[['Page', 'Relevance', 'Audience', 'Facebook', 'Affinity'],\n",
       " ['We Are Tennis', '1', '139.3K', '134.9K', '282x'],\n",
       " ['Fun Radio', '2', '137.1K', '135.1K', '277x'],\n",
       " ['3Suisses', '3', '171.4K', '168.9K', '277x'],\n",
       " ['Ice-Watch', '4', '176.3K', '174.1K', '277x'],\n",
       " ['Samsung', '5', '321.5K', '319.2K', '275x'],\n",
       " ['Kinder', '6', '158.9K', '157.9K', '275x'],\n",
       " ['Thuis', '7', '180.9K', '179.8K', '275x'],\n",
       " ['Coca-Cola', '8', '374.6K', '372.6K', '274x'],\n",
       " ['Takeaway.com', '9', '163.7K', '162.9K', '274x'],\n",
       " [\"Ben & Jerry's\", '10', '161.4K', '160.6K', '274x']]"
      ]
     },
     "execution_count": 445,
     "metadata": {},
     "output_type": "execute_result"
    }
   ],
   "source": [
    "likes_array"
   ]
  },
  {
   "cell_type": "code",
   "execution_count": null,
   "metadata": {
    "collapsed": true
   },
   "outputs": [],
   "source": [
    "jobs_array = []\n",
    "for i in jobs[1:]:\n",
    "    jobs_list = i.find_elements_by_tag_name(\"td\")\n",
    "    temp_array = []\n",
    "    for j in jobs_list:\n",
    "        temp_array.append(j.text)\n",
    "    jobs_array.append(temp_array)"
   ]
  },
  {
   "cell_type": "markdown",
   "metadata": {},
   "source": [
    "## Scrape Locations"
   ]
  },
  {
   "cell_type": "code",
   "execution_count": null,
   "metadata": {
    "collapsed": true
   },
   "outputs": [],
   "source": [
    "driver.get(\"https://www.facebook.com/ads/audience-insights/geography?act=\"\\\n",
    "           + user_id + \"&age=\" + age + \"-&country=\" + country + \"&interests=\" + interests)"
   ]
  },
  {
   "cell_type": "code",
   "execution_count": 429,
   "metadata": {
    "collapsed": true
   },
   "outputs": [],
   "source": [
    "driver.get(\"https://www.facebook.com/ads/audience-insights/geography?act=64916754&age=18-&country=BE\")"
   ]
  },
  {
   "cell_type": "code",
   "execution_count": 430,
   "metadata": {
    "collapsed": true
   },
   "outputs": [],
   "source": [
    "see_all_button = driver.find_elements_by_class_name(\"_5xp8\")"
   ]
  },
  {
   "cell_type": "code",
   "execution_count": 431,
   "metadata": {},
   "outputs": [],
   "source": [
    "see_all_button[0].click()"
   ]
  },
  {
   "cell_type": "code",
   "execution_count": 432,
   "metadata": {
    "collapsed": true
   },
   "outputs": [],
   "source": [
    "locations = driver.find_elements_by_class_name(\"_54_6\")"
   ]
  },
  {
   "cell_type": "code",
   "execution_count": 434,
   "metadata": {},
   "outputs": [],
   "source": [
    "locations_lists = locations[0].find_elements_by_tag_name(\"tr\")"
   ]
  },
  {
   "cell_type": "code",
   "execution_count": 439,
   "metadata": {
    "collapsed": true
   },
   "outputs": [],
   "source": [
    "locations_array = []\n",
    "for i in locations_lists[1:]:\n",
    "    jobs_list = i.find_elements_by_tag_name(\"td\")\n",
    "    temp_array = []\n",
    "    for j in jobs_list:\n",
    "        temp_array.append(j.text)\n",
    "    locations_array.append(temp_array)"
   ]
  },
  {
   "cell_type": "code",
   "execution_count": 442,
   "metadata": {
    "collapsed": true
   },
   "outputs": [],
   "source": [
    "locations_array.insert(0,[\"Towns/Cities\", \"Selected Audience\", \"Compare\"])"
   ]
  },
  {
   "cell_type": "code",
   "execution_count": 443,
   "metadata": {},
   "outputs": [
    {
     "data": {
      "text/plain": [
       "[['Towns/Cities', 'Selected Audience', 'Compare'],\n",
       " ['Halle, Flemish Region, Belgium', '0.2%', '+100%'],\n",
       " ['Zandvliet, Flemish Region, Belgium', '0.2%', '+100%'],\n",
       " ['Rocourt, Wallonia, Belgium', '0.3%', '+50%'],\n",
       " ['Ostend, Flemish Region, Belgium', '0.5%', '+25%'],\n",
       " ['Molenbeek-Saint-Jean, Brussels, Belgium', '0.6%', '+20%'],\n",
       " ['Genk, Flemish Region, Belgium', '0.8%', '+14%'],\n",
       " ['Hasselt, Flemish Region, Belgium', '1%', '+10%'],\n",
       " ['Leuven, Flemish Region, Belgium', '2%', '+6%'],\n",
       " ['Liège, Wallonia, Belgium', '2%', '+6%'],\n",
       " ['Namur, Wallonia, Belgium', '2%', '+6%'],\n",
       " ['Lüttich, Wallonia, Belgium', '3%', '+4%'],\n",
       " ['Brussels, Brussels, Belgium', '7%', '+3%'],\n",
       " ['Antwerp, Flemish Region, Belgium', '4%', '+3%'],\n",
       " ['Gent, Flemish Region, Belgium', '6%', '+2%'],\n",
       " ['Aarschot, Flemish Region, Belgium', '0.2%', '+0%'],\n",
       " ['Alost, Flemish Region, Belgium', '0.3%', '+0%'],\n",
       " ['Andenne, Wallonia, Belgium', '0.2%', '+0%'],\n",
       " ['Arlon, Wallonia, Belgium', '0.4%', '+0%'],\n",
       " ['Ath, Wallonia, Belgium', '0.4%', '+0%'],\n",
       " ['Bastogne, Wallonia, Belgium', '0.2%', '+0%'],\n",
       " ['Berchem, Flemish Region, Belgium', '0.4%', '+0%'],\n",
       " ['Beringen, Flemish Region, Belgium', '0.2%', '+0%'],\n",
       " ['Bilzen, Flemish Region, Belgium', '0.2%', '+0%'],\n",
       " ['Borgerhout, Flemish Region, Belgium', '0.4%', '+0%'],\n",
       " ['Brasschaet, Flemish Region, Belgium', '0.2%', '+0%'],\n",
       " ['Brugge, Flemish Region, Belgium', '1%', '+0%'],\n",
       " ['Charleroi, Wallonia, Belgium', '0.8%', '+0%'],\n",
       " ['Châtelet, Wallonia, Belgium', '0.2%', '+0%'],\n",
       " ['Kortrijk, Flemish Region, Belgium', '1%', '+0%'],\n",
       " ['Deurne, Flemish Region, Belgium', '0.7%', '+0%'],\n",
       " ['Eigenbrake, Wallonia, Belgium', '0.2%', '+0%'],\n",
       " ['Ekeren, Flemish Region, Belgium', '0.2%', '+0%'],\n",
       " ['Etterbeek, Brussels, Belgium', '0.4%', '+0%'],\n",
       " ['Evere, Brussels, Belgium', '0.4%', '+0%'],\n",
       " ['Forest, Brussels, Belgium', '0.7%', '+0%'],\n",
       " ['Geel, Flemish Region, Belgium', '0.4%', '+0%'],\n",
       " ['Gembloux, Wallonia, Belgium', '0.2%', '+0%'],\n",
       " ['Gilly, Wallonia, Belgium', '0.2%', '+0%'],\n",
       " ['Heist-op-den-Berg, Flemish Region, Belgium', '0.2%', '+0%'],\n",
       " ['Houthalen, Flemish Region, Belgium', '0.2%', '+0%'],\n",
       " ['Huy, Wallonia, Belgium', '0.3%', '+0%'],\n",
       " ['Ixelles, Brussels, Belgium', '0.9%', '+0%'],\n",
       " ['Izegem, Flemish Region, Belgium', '0.2%', '+0%'],\n",
       " ['Jette, Brussels, Belgium', '0.5%', '+0%'],\n",
       " ['Jumet, Wallonia, Belgium', '0.3%', '+0%'],\n",
       " ['Koekelberg, Flemish Region, Belgium', '0.2%', '+0%'],\n",
       " ['Laeken, Brussels, Belgium', '0.5%', '+0%'],\n",
       " ['La Louvière, Wallonia, Belgium', '0.4%', '+0%'],\n",
       " ['Lanaken, Flemish Region, Belgium', '0.2%', '+0%'],\n",
       " ['Lokeren, Flemish Region, Belgium', '0.2%', '+0%'],\n",
       " ['Lommel, Flemish Region, Belgium', '0.3%', '+0%'],\n",
       " ['Louvain, Flemish Region, Belgium', '0.5%', '+0%'],\n",
       " ['Maasmechelen, Flemish Region, Belgium', '0.3%', '+0%'],\n",
       " ['Malines, Flemish Region, Belgium', '0.2%', '+0%'],\n",
       " ['Malmédy, Wallonia, Belgium', '0.2%', '+0%'],\n",
       " ['Marcinelle, Wallonia, Belgium', '0.4%', '+0%'],\n",
       " ['Mechelen, Flemish Region, Belgium', '0.5%', '+0%'],\n",
       " ['Menin, Flemish Region, Belgium', '0.2%', '+0%'],\n",
       " ['Merksem, Flemish Region, Belgium', '0.4%', '+0%'],\n",
       " ['Mol, Flemish Region, Belgium', '0.3%', '+0%'],\n",
       " ['Mons, Wallonia, Belgium', '2%', '+0%'],\n",
       " ['Montignies-sur-Sambre, Wallonia, Belgium', '0.2%', '+0%'],\n",
       " ['Mouscron, Wallonia, Belgium', '0.5%', '+0%'],\n",
       " ['Nivelles, Wallonia, Belgium', '0.3%', '+0%'],\n",
       " ['Ottignies-Louvain-la-Neuve, Wallonia, Belgium', '0.3%', '+0%'],\n",
       " ['Oudenaarde, Flemish Region, Belgium', '0.2%', '+0%'],\n",
       " ['Pirot, Wallonia, Belgium', '0.2%', '+0%'],\n",
       " ['Roeselare, Flemish Region, Belgium', '0.2%', '+0%'],\n",
       " ['Ronse, Flemish Region, Belgium', '0.2%', '+0%'],\n",
       " ['Roulers, Flemish Region, Belgium', '0.5%', '+0%'],\n",
       " ['Saint-Josse-ten-Noode, Brussels, Belgium', '0.2%', '+0%'],\n",
       " ['Saint Nicolas, Flemish Region, Belgium', '0.2%', '+0%'],\n",
       " ['Schaerbeek, Brussels, Belgium', '2%', '+0%'],\n",
       " ['Schoten, Flemish Region, Belgium', '0.3%', '+0%'],\n",
       " ['Seraing, Wallonia, Belgium', '0.7%', '+0%'],\n",
       " ['Sint-Amandsberg, Flemish Region, Belgium', '0.2%', '+0%'],\n",
       " ['Sint-Andries, Flemish Region, Belgium', '0.2%', '+0%'],\n",
       " ['Sint Gillis, Flemish Region, Belgium', '0.5%', '+0%'],\n",
       " ['Sint-Kruis, Flemish Region, Belgium', '0.2%', '+0%'],\n",
       " ['Sint-Niklaas, Flemish Region, Belgium', '0.4%', '+0%'],\n",
       " ['Sint-Truiden, Flemish Region, Belgium', '0.4%', '+0%'],\n",
       " ['Termonde, Flemish Region, Belgium', '0.3%', '+0%'],\n",
       " ['Tirlemont, Flemish Region, Belgium', '0.2%', '+0%'],\n",
       " ['Tongres, Flemish Region, Belgium', '0.2%', '+0%'],\n",
       " ['Torhout, Flemish Region, Belgium', '0.2%', '+0%'],\n",
       " ['Tournai, Wallonia, Belgium', '1%', '+0%'],\n",
       " ['Turnhout, Flemish Region, Belgium', '0.8%', '+0%'],\n",
       " ['Uccle, Brussels, Belgium', '0.8%', '+0%'],\n",
       " ['Verviers, Wallonia, Belgium', '0.6%', '+0%'],\n",
       " ['Vilvorde, Flemish Region, Belgium', '0.2%', '+0%'],\n",
       " ['Waregem, Flemish Region, Belgium', '0.3%', '+0%'],\n",
       " ['Watermael-Boitsfort, Brussels, Belgium', '0.2%', '+0%'],\n",
       " ['Wavre, Wallonia, Belgium', '0.4%', '+0%'],\n",
       " ['Wevelghem, Flemish Region, Belgium', '0.2%', '+0%'],\n",
       " ['Wilrijk, Flemish Region, Belgium', '0.4%', '+0%'],\n",
       " ['Woluwé-Saint-Lambert, Brussels, Belgium', '0.4%', '+0%'],\n",
       " ['Woluwé-Saint-Pierre, Brussels, Belgium', '0.2%', '+0%'],\n",
       " ['Ypres, Flemish Region, Belgium', '0.2%', '+0%'],\n",
       " ['Zinnik, Wallonia, Belgium', '0.2%', '+0%'],\n",
       " ['Lier, Flemish Region, Belgium', '0.4%', '+0%']]"
      ]
     },
     "execution_count": 443,
     "metadata": {},
     "output_type": "execute_result"
    }
   ],
   "source": [
    "locations_array"
   ]
  },
  {
   "cell_type": "code",
   "execution_count": null,
   "metadata": {},
   "outputs": [],
   "source": [
    "driver.close()"
   ]
  },
  {
   "cell_type": "code",
   "execution_count": null,
   "metadata": {
    "collapsed": true
   },
   "outputs": [],
   "source": []
  }
 ],
 "metadata": {
  "kernelspec": {
   "display_name": "Python 3",
   "language": "python",
   "name": "python3"
  },
  "language_info": {
   "codemirror_mode": {
    "name": "ipython",
    "version": 3
   },
   "file_extension": ".py",
   "mimetype": "text/x-python",
   "name": "python",
   "nbconvert_exporter": "python",
   "pygments_lexer": "ipython3",
   "version": "3.6.3"
  }
 },
 "nbformat": 4,
 "nbformat_minor": 2
}
