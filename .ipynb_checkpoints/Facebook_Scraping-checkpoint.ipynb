{
 "cells": [
  {
   "cell_type": "markdown",
   "metadata": {},
   "source": [
    "## PARAMETERS"
   ]
  },
  {
   "cell_type": "code",
   "execution_count": 1,
   "metadata": {
    "collapsed": true
   },
   "outputs": [],
   "source": [
    "user_id = \"64916754\"                           # Define your account id         \n",
    "age = \"-\".join([\"18\"])                         # Define the age range\n",
    "country = \"-\".join([\"BE\"])                     # Define the countries\n",
    "interests = \"-\".join([\"6003031026255\"])        # Define the interests"
   ]
  },
  {
   "cell_type": "markdown",
   "metadata": {},
   "source": [
    "## IMPORT LIBRARIES"
   ]
  },
  {
   "cell_type": "code",
   "execution_count": 2,
   "metadata": {
    "collapsed": true
   },
   "outputs": [],
   "source": [
    "import base64\n",
    "from string import ascii_letters, digits, punctuation, printable\n",
    "from IPython.display import Image, display, HTML\n",
    "from time import sleep\n",
    "from collections import Counter\n",
    "from selenium import webdriver\n",
    "from bs4 import BeautifulSoup\n",
    "from copy import copy\n",
    "import requests\n",
    "import json\n",
    "import os\n",
    "import platform\n",
    "from datetime import datetime\n",
    "import numpy as np\n",
    "import pandas as pd\n",
    "from ast import literal_eval\n",
    "from requests import get"
   ]
  },
  {
   "cell_type": "markdown",
   "metadata": {},
   "source": [
    "## START SCRAPING"
   ]
  },
  {
   "cell_type": "code",
   "execution_count": 3,
   "metadata": {
    "collapsed": true
   },
   "outputs": [],
   "source": [
    "# start the Chrome driver\n",
    "driver = webdriver.Chrome()"
   ]
  },
  {
   "cell_type": "code",
   "execution_count": 4,
   "metadata": {},
   "outputs": [],
   "source": [
    "driver.get(\"https://www.facebook.com/ads/audience-insights/people?act=\"\\\n",
    "           + user_id + \"&age=\" + age + \"-&country=\" + country + \"&interests=\" + interests)"
   ]
  },
  {
   "cell_type": "code",
   "execution_count": 5,
   "metadata": {},
   "outputs": [
    {
     "name": "stdout",
     "output_type": "stream",
     "text": [
      "Audience Insights\n"
     ]
    }
   ],
   "source": [
    "print(driver.title)"
   ]
  },
  {
   "cell_type": "code",
   "execution_count": 6,
   "metadata": {
    "collapsed": true
   },
   "outputs": [],
   "source": [
    "percent_gender_data = driver.find_elements_by_class_name(\"_kdk\")\n",
    "percent_data_woman = int(percent_gender_data[0].text[:2])\n",
    "percent_data_man = int(percent_gender_data[1].text[:2])"
   ]
  },
  {
   "cell_type": "code",
   "execution_count": 7,
   "metadata": {},
   "outputs": [],
   "source": [
    "percent_gender_whole = driver.find_elements_by_class_name(\"_5n4z\")\n",
    "percent_whole_women = int(percent_gender_whole[0].text[:2])\n",
    "percent_whole_men = int(percent_gender_whole[1].text[:2])"
   ]
  },
  {
   "cell_type": "code",
   "execution_count": 8,
   "metadata": {},
   "outputs": [
    {
     "data": {
      "text/plain": [
       "49"
      ]
     },
     "execution_count": 8,
     "metadata": {},
     "output_type": "execute_result"
    }
   ],
   "source": [
    "percent_whole_women"
   ]
  },
  {
   "cell_type": "code",
   "execution_count": 9,
   "metadata": {},
   "outputs": [],
   "source": [
    "education = driver.find_elements_by_class_name(\"_5tt6\")"
   ]
  },
  {
   "cell_type": "code",
   "execution_count": 10,
   "metadata": {},
   "outputs": [
    {
     "data": {
      "text/plain": [
       "'Single\\nIn a Relationship\\nEngaged\\nMarried\\n-16%+8%+0%+5%'"
      ]
     },
     "execution_count": 10,
     "metadata": {},
     "output_type": "execute_result"
    }
   ],
   "source": [
    "education[0].text"
   ]
  },
  {
   "cell_type": "code",
   "execution_count": 11,
   "metadata": {},
   "outputs": [
    {
     "data": {
      "text/plain": [
       "'366'"
      ]
     },
     "execution_count": 11,
     "metadata": {},
     "output_type": "execute_result"
    }
   ],
   "source": [
    "education[0].find_elements_by_tag_name(\"canvas\")[0].get_attribute(\"width\")"
   ]
  },
  {
   "cell_type": "code",
   "execution_count": 13,
   "metadata": {},
   "outputs": [],
   "source": [
    "# get the base64 representation of the canvas image (the part substring(21) is for removing the padding \"data:image/png;base64\")\n",
    "base64_image = driver.execute_script(\"return document.querySelectorAll('canvas')[0].\\\n",
    "toDataURL('image/png').substring(21);\")\n",
    "base64_image_1 = driver.execute_script(\"return document.querySelectorAll('canvas')[1].\\\n",
    "toDataURL('image/png').substring(21);\")\n",
    "base64_image_2 = driver.execute_script(\"return document.querySelectorAll('canvas')[2].\\\n",
    "toDataURL('image/png').substring(21);\")\n",
    "\n",
    "# decode the base64 image\n",
    "output_image = base64.b64decode(base64_image)\n",
    "output_image_1 = base64.b64decode(base64_image_1)\n",
    "output_image_2 = base64.b64decode(base64_image_2)\n",
    "\n",
    "# save to the output image\n",
    "with open(\"image.png\", 'wb') as f:\n",
    "   f.write(output_image)\n",
    "with open(\"image_1.png\", 'wb') as f:\n",
    "   f.write(output_image_1)\n",
    "with open(\"image_2.png\", 'wb') as f:\n",
    "   f.write(output_image_2)"
   ]
  },
  {
   "cell_type": "code",
   "execution_count": 2,
   "metadata": {},
   "outputs": [],
   "source": [
    "import io\n",
    "import os\n",
    "\n",
    "# Imports the Google Cloud client library\n",
    "from google.cloud import vision\n",
    "from google.cloud.vision import types"
   ]
  },
  {
   "cell_type": "code",
   "execution_count": 15,
   "metadata": {},
   "outputs": [],
   "source": [
    "GOOGLE_APPLICATION_CREDENTIALS = \"/home/charly/Downloads/Training-afd38eccfc75.json\""
   ]
  },
  {
   "cell_type": "code",
   "execution_count": 7,
   "metadata": {
    "collapsed": true
   },
   "outputs": [],
   "source": [
    "client = vision.ImageAnnotatorClient()"
   ]
  },
  {
   "cell_type": "code",
   "execution_count": 3,
   "metadata": {},
   "outputs": [],
   "source": [
    "# The name of the image file to annotate\n",
    "file_name = os.path.join(os.path.dirname('__file__'),'/home/charly/Desktop/Facebook Scraping/image.png')"
   ]
  },
  {
   "cell_type": "code",
   "execution_count": 4,
   "metadata": {},
   "outputs": [],
   "source": [
    "with io.open(file_name, 'rb') as image_file:\n",
    "    content = image_file.read()"
   ]
  },
  {
   "cell_type": "code",
   "execution_count": 5,
   "metadata": {
    "collapsed": true
   },
   "outputs": [],
   "source": [
    "image = types.Image(content=content)"
   ]
  },
  {
   "cell_type": "code",
   "execution_count": 8,
   "metadata": {},
   "outputs": [],
   "source": [
    "response = client.text_detection(image=image)\n",
    "texts = response.text_annotations"
   ]
  },
  {
   "cell_type": "code",
   "execution_count": 9,
   "metadata": {},
   "outputs": [
    {
     "data": {
      "text/plain": [
       "[locale: \"en\"\n",
       "description: \"33%\\n30%\\n1696\\n8%\\n8%\\n5%\\n18-24\\n25-34\\n35-44\\n45-54\\n55-64\\n65+\\n3%\\n6%\\n17%\\n2396\\n25%\\n2696\\n\"\n",
       "bounding_poly {\n",
       "  vertices {\n",
       "    x: 29\n",
       "    y: 2\n",
       "  }\n",
       "  vertices {\n",
       "    x: 569\n",
       "    y: 2\n",
       "  }\n",
       "  vertices {\n",
       "    x: 569\n",
       "    y: 225\n",
       "  }\n",
       "  vertices {\n",
       "    x: 29\n",
       "    y: 225\n",
       "  }\n",
       "}\n",
       ", description: \"33%\"\n",
       "bounding_poly {\n",
       "  vertices {\n",
       "    x: 342\n",
       "    y: 2\n",
       "  }\n",
       "  vertices {\n",
       "    x: 363\n",
       "    y: 2\n",
       "  }\n",
       "  vertices {\n",
       "    x: 363\n",
       "    y: 11\n",
       "  }\n",
       "  vertices {\n",
       "    x: 342\n",
       "    y: 11\n",
       "  }\n",
       "}\n",
       ", description: \"30%\"\n",
       "bounding_poly {\n",
       "  vertices {\n",
       "    x: 238\n",
       "    y: 10\n",
       "  }\n",
       "  vertices {\n",
       "    x: 260\n",
       "    y: 12\n",
       "  }\n",
       "  vertices {\n",
       "    x: 259\n",
       "    y: 22\n",
       "  }\n",
       "  vertices {\n",
       "    x: 237\n",
       "    y: 20\n",
       "  }\n",
       "}\n",
       ", description: \"1696\"\n",
       "bounding_poly {\n",
       "  vertices {\n",
       "    x: 136\n",
       "    y: 27\n",
       "  }\n",
       "  vertices {\n",
       "    x: 158\n",
       "    y: 28\n",
       "  }\n",
       "  vertices {\n",
       "    x: 158\n",
       "    y: 37\n",
       "  }\n",
       "  vertices {\n",
       "    x: 136\n",
       "    y: 36\n",
       "  }\n",
       "}\n",
       ", description: \"8%\"\n",
       "bounding_poly {\n",
       "  vertices {\n",
       "    x: 35\n",
       "    y: 44\n",
       "  }\n",
       "  vertices {\n",
       "    x: 50\n",
       "    y: 44\n",
       "  }\n",
       "  vertices {\n",
       "    x: 50\n",
       "    y: 52\n",
       "  }\n",
       "  vertices {\n",
       "    x: 35\n",
       "    y: 52\n",
       "  }\n",
       "}\n",
       ", description: \"8%\"\n",
       "bounding_poly {\n",
       "  vertices {\n",
       "    x: 448\n",
       "    y: 61\n",
       "  }\n",
       "  vertices {\n",
       "    x: 463\n",
       "    y: 61\n",
       "  }\n",
       "  vertices {\n",
       "    x: 463\n",
       "    y: 69\n",
       "  }\n",
       "  vertices {\n",
       "    x: 448\n",
       "    y: 69\n",
       "  }\n",
       "}\n",
       ", description: \"5%\"\n",
       "bounding_poly {\n",
       "  vertices {\n",
       "    x: 551\n",
       "    y: 72\n",
       "  }\n",
       "  vertices {\n",
       "    x: 566\n",
       "    y: 72\n",
       "  }\n",
       "  vertices {\n",
       "    x: 566\n",
       "    y: 81\n",
       "  }\n",
       "  vertices {\n",
       "    x: 551\n",
       "    y: 81\n",
       "  }\n",
       "}\n",
       ", description: \"18-24\"\n",
       "bounding_poly {\n",
       "  vertices {\n",
       "    x: 29\n",
       "    y: 120\n",
       "  }\n",
       "  vertices {\n",
       "    x: 58\n",
       "    y: 120\n",
       "  }\n",
       "  vertices {\n",
       "    x: 58\n",
       "    y: 128\n",
       "  }\n",
       "  vertices {\n",
       "    x: 29\n",
       "    y: 128\n",
       "  }\n",
       "}\n",
       ", description: \"25-34\"\n",
       "bounding_poly {\n",
       "  vertices {\n",
       "    x: 131\n",
       "    y: 120\n",
       "  }\n",
       "  vertices {\n",
       "    x: 161\n",
       "    y: 120\n",
       "  }\n",
       "  vertices {\n",
       "    x: 161\n",
       "    y: 127\n",
       "  }\n",
       "  vertices {\n",
       "    x: 131\n",
       "    y: 127\n",
       "  }\n",
       "}\n",
       ", description: \"35-44\"\n",
       "bounding_poly {\n",
       "  vertices {\n",
       "    x: 235\n",
       "    y: 120\n",
       "  }\n",
       "  vertices {\n",
       "    x: 264\n",
       "    y: 119\n",
       "  }\n",
       "  vertices {\n",
       "    x: 264\n",
       "    y: 127\n",
       "  }\n",
       "  vertices {\n",
       "    x: 235\n",
       "    y: 128\n",
       "  }\n",
       "}\n",
       ", description: \"45-54\"\n",
       "bounding_poly {\n",
       "  vertices {\n",
       "    x: 338\n",
       "    y: 120\n",
       "  }\n",
       "  vertices {\n",
       "    x: 367\n",
       "    y: 120\n",
       "  }\n",
       "  vertices {\n",
       "    x: 367\n",
       "    y: 127\n",
       "  }\n",
       "  vertices {\n",
       "    x: 338\n",
       "    y: 127\n",
       "  }\n",
       "}\n",
       ", description: \"55-64\"\n",
       "bounding_poly {\n",
       "  vertices {\n",
       "    x: 441\n",
       "    y: 120\n",
       "  }\n",
       "  vertices {\n",
       "    x: 471\n",
       "    y: 120\n",
       "  }\n",
       "  vertices {\n",
       "    x: 471\n",
       "    y: 128\n",
       "  }\n",
       "  vertices {\n",
       "    x: 441\n",
       "    y: 128\n",
       "  }\n",
       "}\n",
       ", description: \"65+\"\n",
       "bounding_poly {\n",
       "  vertices {\n",
       "    x: 550\n",
       "    y: 120\n",
       "  }\n",
       "  vertices {\n",
       "    x: 568\n",
       "    y: 118\n",
       "  }\n",
       "  vertices {\n",
       "    x: 569\n",
       "    y: 126\n",
       "  }\n",
       "  vertices {\n",
       "    x: 551\n",
       "    y: 128\n",
       "  }\n",
       "}\n",
       ", description: \"3%\"\n",
       "bounding_poly {\n",
       "  vertices {\n",
       "    x: 551\n",
       "    y: 167\n",
       "  }\n",
       "  vertices {\n",
       "    x: 566\n",
       "    y: 167\n",
       "  }\n",
       "  vertices {\n",
       "    x: 566\n",
       "    y: 175\n",
       "  }\n",
       "  vertices {\n",
       "    x: 551\n",
       "    y: 175\n",
       "  }\n",
       "}\n",
       ", description: \"6%\"\n",
       "bounding_poly {\n",
       "  vertices {\n",
       "    x: 448\n",
       "    y: 175\n",
       "  }\n",
       "  vertices {\n",
       "    x: 463\n",
       "    y: 175\n",
       "  }\n",
       "  vertices {\n",
       "    x: 463\n",
       "    y: 183\n",
       "  }\n",
       "  vertices {\n",
       "    x: 448\n",
       "    y: 183\n",
       "  }\n",
       "}\n",
       ", description: \"17%\"\n",
       "bounding_poly {\n",
       "  vertices {\n",
       "    x: 32\n",
       "    y: 198\n",
       "  }\n",
       "  vertices {\n",
       "    x: 53\n",
       "    y: 198\n",
       "  }\n",
       "  vertices {\n",
       "    x: 53\n",
       "    y: 208\n",
       "  }\n",
       "  vertices {\n",
       "    x: 32\n",
       "    y: 208\n",
       "  }\n",
       "}\n",
       ", description: \"2396\"\n",
       "bounding_poly {\n",
       "  vertices {\n",
       "    x: 342\n",
       "    y: 209\n",
       "  }\n",
       "  vertices {\n",
       "    x: 364\n",
       "    y: 210\n",
       "  }\n",
       "  vertices {\n",
       "    x: 364\n",
       "    y: 218\n",
       "  }\n",
       "  vertices {\n",
       "    x: 342\n",
       "    y: 217\n",
       "  }\n",
       "}\n",
       ", description: \"25%\"\n",
       "bounding_poly {\n",
       "  vertices {\n",
       "    x: 135\n",
       "    y: 216\n",
       "  }\n",
       "  vertices {\n",
       "    x: 155\n",
       "    y: 216\n",
       "  }\n",
       "  vertices {\n",
       "    x: 155\n",
       "    y: 225\n",
       "  }\n",
       "  vertices {\n",
       "    x: 135\n",
       "    y: 225\n",
       "  }\n",
       "}\n",
       ", description: \"2696\"\n",
       "bounding_poly {\n",
       "  vertices {\n",
       "    x: 238\n",
       "    y: 216\n",
       "  }\n",
       "  vertices {\n",
       "    x: 260\n",
       "    y: 217\n",
       "  }\n",
       "  vertices {\n",
       "    x: 260\n",
       "    y: 225\n",
       "  }\n",
       "  vertices {\n",
       "    x: 238\n",
       "    y: 224\n",
       "  }\n",
       "}\n",
       "]"
      ]
     },
     "execution_count": 9,
     "metadata": {},
     "output_type": "execute_result"
    }
   ],
   "source": [
    "texts"
   ]
  },
  {
   "cell_type": "code",
   "execution_count": 10,
   "metadata": {},
   "outputs": [
    {
     "name": "stdout",
     "output_type": "stream",
     "text": [
      "Texts:\n",
      "\n",
      "\"33%\n",
      "30%\n",
      "1696\n",
      "8%\n",
      "8%\n",
      "5%\n",
      "18-24\n",
      "25-34\n",
      "35-44\n",
      "45-54\n",
      "55-64\n",
      "65+\n",
      "3%\n",
      "6%\n",
      "17%\n",
      "2396\n",
      "25%\n",
      "2696\n",
      "\"\n",
      "bounds: (29,2),(569,2),(569,225),(29,225)\n",
      "\n",
      "\"33%\"\n",
      "bounds: (342,2),(363,2),(363,11),(342,11)\n",
      "\n",
      "\"30%\"\n",
      "bounds: (238,10),(260,12),(259,22),(237,20)\n",
      "\n",
      "\"1696\"\n",
      "bounds: (136,27),(158,28),(158,37),(136,36)\n",
      "\n",
      "\"8%\"\n",
      "bounds: (35,44),(50,44),(50,52),(35,52)\n",
      "\n",
      "\"8%\"\n",
      "bounds: (448,61),(463,61),(463,69),(448,69)\n",
      "\n",
      "\"5%\"\n",
      "bounds: (551,72),(566,72),(566,81),(551,81)\n",
      "\n",
      "\"18-24\"\n",
      "bounds: (29,120),(58,120),(58,128),(29,128)\n",
      "\n",
      "\"25-34\"\n",
      "bounds: (131,120),(161,120),(161,127),(131,127)\n",
      "\n",
      "\"35-44\"\n",
      "bounds: (235,120),(264,119),(264,127),(235,128)\n",
      "\n",
      "\"45-54\"\n",
      "bounds: (338,120),(367,120),(367,127),(338,127)\n",
      "\n",
      "\"55-64\"\n",
      "bounds: (441,120),(471,120),(471,128),(441,128)\n",
      "\n",
      "\"65+\"\n",
      "bounds: (550,120),(568,118),(569,126),(551,128)\n",
      "\n",
      "\"3%\"\n",
      "bounds: (551,167),(566,167),(566,175),(551,175)\n",
      "\n",
      "\"6%\"\n",
      "bounds: (448,175),(463,175),(463,183),(448,183)\n",
      "\n",
      "\"17%\"\n",
      "bounds: (32,198),(53,198),(53,208),(32,208)\n",
      "\n",
      "\"2396\"\n",
      "bounds: (342,209),(364,210),(364,218),(342,217)\n",
      "\n",
      "\"25%\"\n",
      "bounds: (135,216),(155,216),(155,225),(135,225)\n",
      "\n",
      "\"2696\"\n",
      "bounds: (238,216),(260,217),(260,225),(238,224)\n"
     ]
    }
   ],
   "source": [
    "print('Texts:')\n",
    "\n",
    "for text in texts:\n",
    "    print('\\n\"{}\"'.format(text.description))\n",
    "\n",
    "    vertices = (['({},{})'.format(vertex.x, vertex.y)\n",
    "                for vertex in text.bounding_poly.vertices])\n",
    "\n",
    "    print('bounds: {}'.format(','.join(vertices)))"
   ]
  },
  {
   "cell_type": "code",
   "execution_count": null,
   "metadata": {
    "collapsed": true
   },
   "outputs": [],
   "source": []
  },
  {
   "cell_type": "code",
   "execution_count": null,
   "metadata": {
    "collapsed": true
   },
   "outputs": [],
   "source": []
  },
  {
   "cell_type": "code",
   "execution_count": null,
   "metadata": {
    "collapsed": true
   },
   "outputs": [],
   "source": [
    "driver.close()"
   ]
  }
 ],
 "metadata": {
  "kernelspec": {
   "display_name": "Python 3",
   "language": "python",
   "name": "python3"
  },
  "language_info": {
   "codemirror_mode": {
    "name": "ipython",
    "version": 3
   },
   "file_extension": ".py",
   "mimetype": "text/x-python",
   "name": "python",
   "nbconvert_exporter": "python",
   "pygments_lexer": "ipython3",
   "version": "3.6.3"
  }
 },
 "nbformat": 4,
 "nbformat_minor": 2
}
